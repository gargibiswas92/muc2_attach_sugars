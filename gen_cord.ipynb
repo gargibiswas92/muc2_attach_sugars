{
 "cells": [
  {
   "cell_type": "code",
   "execution_count": 36,
   "id": "b9366052-68f0-4815-b552-c96bc1953212",
   "metadata": {},
   "outputs": [
    {
     "ename": "AttributeError",
     "evalue": "'NoneType' object has no attribute 'gens'",
     "output_type": "error",
     "traceback": [
      "\u001b[0;31m---------------------------------------------------------------------------\u001b[0m",
      "\u001b[0;31mAttributeError\u001b[0m                            Traceback (most recent call last)",
      "Input \u001b[0;32mIn [36]\u001b[0m, in \u001b[0;36m<cell line: 49>\u001b[0;34m()\u001b[0m\n\u001b[1;32m     46\u001b[0m eq4 \u001b[38;5;241m=\u001b[39m dt \u001b[38;5;241m-\u001b[39mdi\n\u001b[1;32m     48\u001b[0m sol1 \u001b[38;5;241m=\u001b[39m nonlinsolve([eq1, eq2, eq3], [x,y,z])\n\u001b[0;32m---> 49\u001b[0m sol2 \u001b[38;5;241m=\u001b[39m \u001b[43mnonlinsolve\u001b[49m\u001b[43m(\u001b[49m\u001b[43m[\u001b[49m\u001b[43meq1\u001b[49m\u001b[43m,\u001b[49m\u001b[43m \u001b[49m\u001b[43meq2\u001b[49m\u001b[43m,\u001b[49m\u001b[43m \u001b[49m\u001b[43meq4\u001b[49m\u001b[43m]\u001b[49m\u001b[43m,\u001b[49m\u001b[43m \u001b[49m\u001b[43m[\u001b[49m\u001b[43mx\u001b[49m\u001b[43m,\u001b[49m\u001b[43my\u001b[49m\u001b[43m,\u001b[49m\u001b[43mz\u001b[49m\u001b[43m]\u001b[49m\u001b[43m)\u001b[49m\n\u001b[1;32m     51\u001b[0m \u001b[38;5;66;03m#print(sol1, sol2)\u001b[39;00m\n\u001b[1;32m     52\u001b[0m \u001b[38;5;28mprint\u001b[39m(s1, s2)\n",
      "File \u001b[0;32m~/miniconda3/lib/python3.9/site-packages/sympy/solvers/solveset.py:3695\u001b[0m, in \u001b[0;36mnonlinsolve\u001b[0;34m(system, *symbols)\u001b[0m\n\u001b[1;32m   3690\u001b[0m         \u001b[38;5;28;01mreturn\u001b[39;00m res\n\u001b[1;32m   3692\u001b[0m \u001b[38;5;28;01melse\u001b[39;00m:\n\u001b[1;32m   3693\u001b[0m     \u001b[38;5;66;03m# If all the equations are not polynomial.\u001b[39;00m\n\u001b[1;32m   3694\u001b[0m     \u001b[38;5;66;03m# Use `substitution` method for the system\u001b[39;00m\n\u001b[0;32m-> 3695\u001b[0m     result \u001b[38;5;241m=\u001b[39m \u001b[43msubstitution\u001b[49m\u001b[43m(\u001b[49m\n\u001b[1;32m   3696\u001b[0m \u001b[43m        \u001b[49m\u001b[43mpolys_expr\u001b[49m\u001b[43m \u001b[49m\u001b[38;5;241;43m+\u001b[39;49m\u001b[43m \u001b[49m\u001b[43mnonpolys\u001b[49m\u001b[43m,\u001b[49m\u001b[43m \u001b[49m\u001b[43msymbols\u001b[49m\u001b[43m,\u001b[49m\u001b[43m \u001b[49m\u001b[43mexclude\u001b[49m\u001b[38;5;241;43m=\u001b[39;49m\u001b[43mdenominators\u001b[49m\u001b[43m)\u001b[49m\n\u001b[1;32m   3697\u001b[0m     \u001b[38;5;28;01mreturn\u001b[39;00m result\n",
      "File \u001b[0;32m~/miniconda3/lib/python3.9/site-packages/sympy/solvers/solveset.py:3347\u001b[0m, in \u001b[0;36msubstitution\u001b[0;34m(system, symbols, result, known_symbols, exclude, all_symbols)\u001b[0m\n\u001b[1;32m   3344\u001b[0m     \u001b[38;5;28;01mreturn\u001b[39;00m result, total_solvest_call, total_conditionst\n\u001b[1;32m   3345\u001b[0m \u001b[38;5;66;03m# end def _solve_using_know_values()\u001b[39;00m\n\u001b[0;32m-> 3347\u001b[0m new_result_real, solve_call1, cnd_call1 \u001b[38;5;241m=\u001b[39m \u001b[43m_solve_using_known_values\u001b[49m\u001b[43m(\u001b[49m\n\u001b[1;32m   3348\u001b[0m \u001b[43m    \u001b[49m\u001b[43mold_result\u001b[49m\u001b[43m,\u001b[49m\u001b[43m \u001b[49m\u001b[43msolveset_real\u001b[49m\u001b[43m)\u001b[49m\n\u001b[1;32m   3349\u001b[0m new_result_complex, solve_call2, cnd_call2 \u001b[38;5;241m=\u001b[39m _solve_using_known_values(\n\u001b[1;32m   3350\u001b[0m     old_result, solveset_complex)\n\u001b[1;32m   3352\u001b[0m \u001b[38;5;66;03m# If total_solveset_call is equal to total_conditionset\u001b[39;00m\n\u001b[1;32m   3353\u001b[0m \u001b[38;5;66;03m# then solveset failed to solve all of the equations.\u001b[39;00m\n\u001b[1;32m   3354\u001b[0m \u001b[38;5;66;03m# In this case we return a ConditionSet here.\u001b[39;00m\n",
      "File \u001b[0;32m~/miniconda3/lib/python3.9/site-packages/sympy/solvers/solveset.py:3260\u001b[0m, in \u001b[0;36msubstitution.<locals>._solve_using_known_values\u001b[0;34m(result, solver)\u001b[0m\n\u001b[1;32m   3258\u001b[0m not_solvable \u001b[38;5;241m=\u001b[39m \u001b[38;5;28;01mFalse\u001b[39;00m\n\u001b[1;32m   3259\u001b[0m \u001b[38;5;28;01mtry\u001b[39;00m:\n\u001b[0;32m-> 3260\u001b[0m     soln \u001b[38;5;241m=\u001b[39m \u001b[43msolver\u001b[49m\u001b[43m(\u001b[49m\u001b[43meq2\u001b[49m\u001b[43m,\u001b[49m\u001b[43m \u001b[49m\u001b[43msym\u001b[49m\u001b[43m)\u001b[49m\n\u001b[1;32m   3261\u001b[0m     total_solvest_call \u001b[38;5;241m+\u001b[39m\u001b[38;5;241m=\u001b[39m \u001b[38;5;241m1\u001b[39m\n\u001b[1;32m   3262\u001b[0m     soln_new \u001b[38;5;241m=\u001b[39m S\u001b[38;5;241m.\u001b[39mEmptySet\n",
      "File \u001b[0;32m~/miniconda3/lib/python3.9/site-packages/sympy/solvers/solveset.py:2244\u001b[0m, in \u001b[0;36msolveset_real\u001b[0;34m(f, symbol)\u001b[0m\n\u001b[1;32m   2243\u001b[0m \u001b[38;5;28;01mdef\u001b[39;00m \u001b[38;5;21msolveset_real\u001b[39m(f, symbol):\n\u001b[0;32m-> 2244\u001b[0m     \u001b[38;5;28;01mreturn\u001b[39;00m \u001b[43msolveset\u001b[49m\u001b[43m(\u001b[49m\u001b[43mf\u001b[49m\u001b[43m,\u001b[49m\u001b[43m \u001b[49m\u001b[43msymbol\u001b[49m\u001b[43m,\u001b[49m\u001b[43m \u001b[49m\u001b[43mS\u001b[49m\u001b[38;5;241;43m.\u001b[39;49m\u001b[43mReals\u001b[49m\u001b[43m)\u001b[49m\n",
      "File \u001b[0;32m~/miniconda3/lib/python3.9/site-packages/sympy/solvers/solveset.py:2216\u001b[0m, in \u001b[0;36msolveset\u001b[0;34m(f, symbol, domain)\u001b[0m\n\u001b[1;32m   2214\u001b[0m \u001b[38;5;28;01mif\u001b[39;00m symbol \u001b[38;5;129;01mnot\u001b[39;00m \u001b[38;5;129;01min\u001b[39;00m _rc:\n\u001b[1;32m   2215\u001b[0m     x \u001b[38;5;241m=\u001b[39m _rc[\u001b[38;5;241m0\u001b[39m] \u001b[38;5;28;01mif\u001b[39;00m domain\u001b[38;5;241m.\u001b[39mis_subset(S\u001b[38;5;241m.\u001b[39mReals) \u001b[38;5;28;01melse\u001b[39;00m _rc[\u001b[38;5;241m1\u001b[39m]\n\u001b[0;32m-> 2216\u001b[0m     rv \u001b[38;5;241m=\u001b[39m \u001b[43msolveset\u001b[49m\u001b[43m(\u001b[49m\u001b[43mf\u001b[49m\u001b[38;5;241;43m.\u001b[39;49m\u001b[43mxreplace\u001b[49m\u001b[43m(\u001b[49m\u001b[43m{\u001b[49m\u001b[43msymbol\u001b[49m\u001b[43m:\u001b[49m\u001b[43m \u001b[49m\u001b[43mx\u001b[49m\u001b[43m}\u001b[49m\u001b[43m)\u001b[49m\u001b[43m,\u001b[49m\u001b[43m \u001b[49m\u001b[43mx\u001b[49m\u001b[43m,\u001b[49m\u001b[43m \u001b[49m\u001b[43mdomain\u001b[49m\u001b[43m)\u001b[49m\n\u001b[1;32m   2217\u001b[0m     \u001b[38;5;66;03m# try to use the original symbol if possible\u001b[39;00m\n\u001b[1;32m   2218\u001b[0m     \u001b[38;5;28;01mtry\u001b[39;00m:\n",
      "File \u001b[0;32m~/miniconda3/lib/python3.9/site-packages/sympy/solvers/solveset.py:2240\u001b[0m, in \u001b[0;36msolveset\u001b[0;34m(f, symbol, domain)\u001b[0m\n\u001b[1;32m   2237\u001b[0m     f \u001b[38;5;241m=\u001b[39m f\u001b[38;5;241m.\u001b[39mxreplace({d: e})\n\u001b[1;32m   2238\u001b[0m f \u001b[38;5;241m=\u001b[39m piecewise_fold(f)\n\u001b[0;32m-> 2240\u001b[0m \u001b[38;5;28;01mreturn\u001b[39;00m \u001b[43m_solveset\u001b[49m\u001b[43m(\u001b[49m\u001b[43mf\u001b[49m\u001b[43m,\u001b[49m\u001b[43m \u001b[49m\u001b[43msymbol\u001b[49m\u001b[43m,\u001b[49m\u001b[43m \u001b[49m\u001b[43mdomain\u001b[49m\u001b[43m,\u001b[49m\u001b[43m \u001b[49m\u001b[43m_check\u001b[49m\u001b[38;5;241;43m=\u001b[39;49m\u001b[38;5;28;43;01mTrue\u001b[39;49;00m\u001b[43m)\u001b[49m\n",
      "File \u001b[0;32m~/miniconda3/lib/python3.9/site-packages/sympy/solvers/solveset.py:1072\u001b[0m, in \u001b[0;36m_solveset\u001b[0;34m(f, symbol, domain, _check)\u001b[0m\n\u001b[1;32m   1070\u001b[0m \u001b[38;5;28;01mfor\u001b[39;00m equation \u001b[38;5;129;01min\u001b[39;00m [lhs \u001b[38;5;241m-\u001b[39m rhs \u001b[38;5;28;01mfor\u001b[39;00m rhs \u001b[38;5;129;01min\u001b[39;00m rhs_s]:\n\u001b[1;32m   1071\u001b[0m     \u001b[38;5;28;01mif\u001b[39;00m equation \u001b[38;5;241m==\u001b[39m f:\n\u001b[0;32m-> 1072\u001b[0m         u \u001b[38;5;241m=\u001b[39m \u001b[43munrad\u001b[49m\u001b[43m(\u001b[49m\u001b[43mf\u001b[49m\u001b[43m,\u001b[49m\u001b[43m \u001b[49m\u001b[43msymbol\u001b[49m\u001b[43m)\u001b[49m\n\u001b[1;32m   1073\u001b[0m         \u001b[38;5;28;01mif\u001b[39;00m u:\n\u001b[1;32m   1074\u001b[0m             result \u001b[38;5;241m+\u001b[39m\u001b[38;5;241m=\u001b[39m _solve_radical(equation, u,\n\u001b[1;32m   1075\u001b[0m                                      symbol,\n\u001b[1;32m   1076\u001b[0m                                      solver)\n",
      "File \u001b[0;32m~/miniconda3/lib/python3.9/site-packages/sympy/solvers/solvers.py:3334\u001b[0m, in \u001b[0;36munrad\u001b[0;34m(eq, *syms, **flags)\u001b[0m\n\u001b[1;32m   3332\u001b[0m             bases\u001b[38;5;241m.\u001b[39madd(g\u001b[38;5;241m.\u001b[39mbase)\n\u001b[1;32m   3333\u001b[0m     \u001b[38;5;28;01mreturn\u001b[39;00m rads, bases, lcm\n\u001b[0;32m-> 3334\u001b[0m rads, bases, lcm \u001b[38;5;241m=\u001b[39m \u001b[43m_rads_bases_lcm\u001b[49m\u001b[43m(\u001b[49m\u001b[43mpoly\u001b[49m\u001b[43m)\u001b[49m\n\u001b[1;32m   3336\u001b[0m covsym \u001b[38;5;241m=\u001b[39m Dummy(\u001b[38;5;124m'\u001b[39m\u001b[38;5;124mp\u001b[39m\u001b[38;5;124m'\u001b[39m, nonnegative\u001b[38;5;241m=\u001b[39m\u001b[38;5;28;01mTrue\u001b[39;00m)\n\u001b[1;32m   3338\u001b[0m \u001b[38;5;66;03m# only keep in syms symbols that actually appear in radicals;\u001b[39;00m\n\u001b[1;32m   3339\u001b[0m \u001b[38;5;66;03m# and update gens\u001b[39;00m\n",
      "File \u001b[0;32m~/miniconda3/lib/python3.9/site-packages/sympy/solvers/solvers.py:3327\u001b[0m, in \u001b[0;36munrad.<locals>._rads_bases_lcm\u001b[0;34m(poly)\u001b[0m\n\u001b[1;32m   3325\u001b[0m rads \u001b[38;5;241m=\u001b[39m \u001b[38;5;28mset\u001b[39m()\n\u001b[1;32m   3326\u001b[0m bases \u001b[38;5;241m=\u001b[39m \u001b[38;5;28mset\u001b[39m()\n\u001b[0;32m-> 3327\u001b[0m \u001b[38;5;28;01mfor\u001b[39;00m g \u001b[38;5;129;01min\u001b[39;00m \u001b[43mpoly\u001b[49m\u001b[38;5;241;43m.\u001b[39;49m\u001b[43mgens\u001b[49m:\n\u001b[1;32m   3328\u001b[0m     q \u001b[38;5;241m=\u001b[39m _Q(g)\n\u001b[1;32m   3329\u001b[0m     \u001b[38;5;28;01mif\u001b[39;00m q \u001b[38;5;241m!=\u001b[39m \u001b[38;5;241m1\u001b[39m:\n",
      "\u001b[0;31mAttributeError\u001b[0m: 'NoneType' object has no attribute 'gens'"
     ]
    }
   ],
   "source": [
    "import sys\n",
    "import math\n",
    "from math import sqrt\n",
    "from sympy.solvers import nonlinsolve\n",
    "from sympy.solvers import solve\n",
    "from sympy import symbols\n",
    "\n",
    "point1 = [0.010, -0.068, -0.080]\n",
    "point2 = [0.378, -0.026, -0.012]\n",
    "point3 = [0.634, 0.011, 0.264]\n",
    "point4 = [0.865, 0.257, 0.432]\n",
    "x,y,z = symbols('x, y, z', real=True)\n",
    "\n",
    "\n",
    "#a1 = ((y1 - y2)*(z2 - z3)) - ((z1 - z2)*(y2 - y3))\n",
    "#a2 = ((x2 - x3)*(z1 - z2)) - ((x1 - x2)*(z2 - z3))\n",
    "#a3 = ((x1 - x2)*(y2 - y3)) - ((x2 - x3)*(y1 - y2))\n",
    "#b1 = ((y2 - y3)*(z3 - z4)) - ((y3 - y4)*(z2 - z3))\n",
    "#b2 = ((x3 - x4)*(z2 - z3)) - ((x2 - x3)*(z3 - z4))\n",
    "#b3 = ((x2 - x3)*(y3 - y4)) - ((x3 - x4)*(y2 - y3))\n",
    "    \n",
    "#dot2 = ((a1*b1) + (a2*b2) + (a3*b3))\n",
    "#s1 = math.sqrt((a1*a1) + (a2*a2) + (a3*a3))\n",
    "#s2 = math.sqrt((b1*b1) + (b2*b2) + (b3*b3))\n",
    "#dihed = (math.acos(dot2/(s1*s2)))*(57.2958)\n",
    "\n",
    "\n",
    "a1 = ((y - point2[1])*(point2[2] - point3[2])) - ((z - point2[2])*(point2[1] - point3[1]))\n",
    "a2 = ((point2[0] - point3[0])*(z - point2[2])) - ((x - point2[0])*(point2[2] - point3[2]))\n",
    "a3 = ((x - point2[0])*(point2[1] - point3[1])) - ((point2[0] - point3[0])*(y - point2[1]))\n",
    "b1 = ((point2[1] - point3[1])*(point3[2] - point4[2])) - ((point3[1] - point4[1])*(point2[2] - point3[2]))\n",
    "b2 = ((point3[0] - point4[0])*(point2[2] - point3[2])) - ((point2[0] - point3[0])*(point3[2] - point4[2]))\n",
    "b3 = ((point2[0] - point3[0])*(point3[1] - point4[1])) - ((point3[0] - point4[0])*(point2[1] - point3[1]))\n",
    "    \n",
    "dot2 = ((a1*b1) + (a2*b2) + (a3*b3))\n",
    "s1 = ((a1*a1) + (a2*a2) + (a3*a3))**0.5\n",
    "s2 = ((b1*b1) + (b2*b2) + (b3*b3))**0.5\n",
    "s = s1*s2\n",
    "dt = dot2/s\n",
    "di = 0.430\n",
    "\n",
    "eq1 = ((x - point2[0])**2 + (y - point2[1])**2 + (z - point2[2])**2) - 0.137\n",
    "eq2 = (((x - point2[0])*(point2[0] - point1[0])) + ((y - point2[1])*(point2[1] - point1[1])) + ((z - point2[2])*(point2[2]-point1[2]))) - (0.066)\n",
    "eq3 = (((x - point2[0])*(-0.256)) + ((y - point2[1])*(-0.037)) + ((z - point2[2])*(-0.276))) - (0.0048)\n",
    "#eq4 = dot2 - di\n",
    "eq4 = dt -di\n",
    "\n",
    "sol1 = nonlinsolve([eq1, eq2, eq3], [x,y,z])\n",
    "sol2 = nonlinsolve([eq1, eq2, eq4], [x,y,z])\n",
    "\n",
    "#print(sol1, sol2)\n",
    "print(s1, s2)"
   ]
  },
  {
   "cell_type": "code",
   "execution_count": null,
   "id": "5e6b622d-b4ba-4a07-a30c-77c41d364aac",
   "metadata": {},
   "outputs": [],
   "source": []
  },
  {
   "cell_type": "code",
   "execution_count": null,
   "id": "0a208979-ae73-4ef2-92bc-8dd52734ddbd",
   "metadata": {},
   "outputs": [],
   "source": []
  }
 ],
 "metadata": {
  "kernelspec": {
   "display_name": "Python 3 (ipykernel)",
   "language": "python",
   "name": "python3"
  },
  "language_info": {
   "codemirror_mode": {
    "name": "ipython",
    "version": 3
   },
   "file_extension": ".py",
   "mimetype": "text/x-python",
   "name": "python",
   "nbconvert_exporter": "python",
   "pygments_lexer": "ipython3",
   "version": "3.9.12"
  }
 },
 "nbformat": 4,
 "nbformat_minor": 5
}
