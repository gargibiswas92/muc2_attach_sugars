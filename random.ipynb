{
 "cells": [
  {
   "cell_type": "code",
   "execution_count": 1,
   "id": "a0fb42ef-a59a-4464-8202-b5aea4817f55",
   "metadata": {},
   "outputs": [
    {
     "name": "stdout",
     "output_type": "stream",
     "text": [
      "100\n"
     ]
    }
   ],
   "source": [
    "import random\n",
    "\n",
    "outfile = open(\"attach_sugar_list.txt\",\"w\")\n",
    "random_list = [] \n",
    "\n",
    "for i in range(100):\n",
    "    m = random.randint(0,200)\n",
    "    random_list.append(m)\n",
    "    \n",
    "final_list = []\n",
    "\n",
    "for i in range(40392):\n",
    "    for j in range(100):\n",
    "        if random_list[i] != random_list[j]:\n",
    "            n = random_list[i]\n",
    "    final_list.append(n)\n",
    "    #print(n)\n",
    "print(len(final_list))"
   ]
  },
  {
   "cell_type": "code",
   "execution_count": 2,
   "id": "cb4ac797-6336-4a69-9b0e-c85507ddbd28",
   "metadata": {},
   "outputs": [
    {
     "name": "stdout",
     "output_type": "stream",
     "text": [
      "[26685, 32778, 28457, 19650, 29232, 38646, 16133, 33061, 25826, 11461, 7530, 14810, 38848, 16826, 7517, 36819, 6469, 21147, 8992, 32115, 9485, 14524, 6005, 1049, 32818, 26269, 3656, 11562, 9071, 30899, 3323, 23365, 34786, 30170, 10422, 34747, 14679, 38240, 38012, 30057, 39514, 23551, 21375, 36501, 19148, 34478, 36754, 9250, 38829, 19631, 17299, 29841, 12897, 33078, 13657, 19125, 39250, 18606, 24120, 25323, 36475, 28035, 29376, 20721, 32789, 8400, 15029, 10222, 10616, 26117, 38041, 17681, 1970, 20493, 6210, 38866, 16393, 32572, 33208, 25875, 15114, 20104, 6406, 23319, 4527, 33902, 8906, 21918, 3260, 28632, 25793, 29139, 8286, 22901, 34211, 27866, 25017, 33052, 25757, 11646, 24799, 33511, 7623, 35381, 10031, 25586, 16205, 8071, 37540, 2562, 563, 31359, 12500, 432, 250, 34115, 20723, 33663, 1643, 4894, 1447, 24366, 34217, 28270, 14848, 36036, 22134, 20382, 6682, 4050, 30267, 26612, 24973, 35352, 22258, 3743, 26296, 17152, 40366, 10392, 28188, 5970, 7705, 2006, 25862, 22371, 35513, 9170, 11642, 10395, 36722, 9945, 1858, 36090, 3670, 1822, 9714, 1153, 27093, 5656, 22726, 9402, 15183, 21496, 18668, 20514, 16026, 14284, 879, 6962, 37286, 19118, 39805, 9180, 35562, 15454, 5582, 26673, 37062, 29278, 36161, 18284, 29796, 7096, 26852, 23058, 4509, 9429, 34921, 19964, 22346, 12315, 10735, 35996, 39951, 38480, 14620, 23841, 33404, 19982]\n",
      "200\n"
     ]
    }
   ],
   "source": [
    "#importing required libraries\n",
    "import random\n",
    "li=range(0,40392)\n",
    "#we use this list to get non-repeating elemets\n",
    "li2 = random.sample(li,200)\n",
    "print(li2)\n",
    "print(len(li2))"
   ]
  },
  {
   "cell_type": "code",
   "execution_count": null,
   "id": "5ab7b6ab-4659-4af9-8c86-7c0121359b2e",
   "metadata": {},
   "outputs": [],
   "source": []
  }
 ],
 "metadata": {
  "kernelspec": {
   "display_name": "Python 3 (ipykernel)",
   "language": "python",
   "name": "python3"
  },
  "language_info": {
   "codemirror_mode": {
    "name": "ipython",
    "version": 3
   },
   "file_extension": ".py",
   "mimetype": "text/x-python",
   "name": "python",
   "nbconvert_exporter": "python",
   "pygments_lexer": "ipython3",
   "version": "3.9.12"
  }
 },
 "nbformat": 4,
 "nbformat_minor": 5
}
