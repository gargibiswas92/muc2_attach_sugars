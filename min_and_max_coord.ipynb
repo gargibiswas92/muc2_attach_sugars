{
 "cells": [
  {
   "cell_type": "code",
   "execution_count": 13,
   "id": "a2e438db-b719-4919-974d-07e66a90aabc",
   "metadata": {},
   "outputs": [
    {
     "name": "stdout",
     "output_type": "stream",
     "text": [
      "x minimum: -83.747 y maximum: 109.091 y minimum: -81.419 y maximum: 200.981 z minimum: -137.842 z maximum: 189.375\n"
     ]
    }
   ],
   "source": [
    "import sys\n",
    "import statistics as stats\n",
    "\n",
    "file1 = open(\"/home_b/gargi/project_muc/attach_sugar_mucin/muc2_smog20_tail.gro\", \"r\")\n",
    "x_cord = []\n",
    "y_cord = []\n",
    "z_cord = []\n",
    "\n",
    "for line in file1:\n",
    "    a = line[0:5]\n",
    "    b = line[5:8]\n",
    "    c = line[20:28]\n",
    "    d = line[28:36]\n",
    "    e = line[36:44]\n",
    "    \n",
    "    x_cord.append(float(c))\n",
    "    y_cord.append(float(d))\n",
    "    z_cord.append(float(e))\n",
    "    \n",
    "x_min = min(x_cord)\n",
    "x_max = max(x_cord)\n",
    "y_min = min(y_cord)\n",
    "y_max = max(y_cord)\n",
    "z_min = min(z_cord)\n",
    "z_max = max(z_cord)\n",
    "    \n",
    "print(\"x minimum:\", x_min, \"y maximum:\", x_max, \"y minimum:\", y_min, \"y maximum:\", y_max, \"z minimum:\", z_min, \"z maximum:\", z_max)\n",
    "\n"
   ]
  },
  {
   "cell_type": "code",
   "execution_count": null,
   "id": "fd37566d-8ffe-44d2-ac01-fc2d72e2e270",
   "metadata": {},
   "outputs": [],
   "source": []
  }
 ],
 "metadata": {
  "kernelspec": {
   "display_name": "Python 3 (ipykernel)",
   "language": "python",
   "name": "python3"
  },
  "language_info": {
   "codemirror_mode": {
    "name": "ipython",
    "version": 3
   },
   "file_extension": ".py",
   "mimetype": "text/x-python",
   "name": "python",
   "nbconvert_exporter": "python",
   "pygments_lexer": "ipython3",
   "version": "3.9.12"
  }
 },
 "nbformat": 4,
 "nbformat_minor": 5
}
