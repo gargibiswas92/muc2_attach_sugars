{
 "cells": [
  {
   "cell_type": "code",
   "execution_count": 1,
   "id": "5e54b7d2-56d4-4605-8c4b-8a041ed9794b",
   "metadata": {},
   "outputs": [
    {
     "ename": "FileNotFoundError",
     "evalue": "[Errno 2] No such file or directory: '/home_b/gargi/project_1/attach_sugar_mucin/adj2.pdb'",
     "output_type": "error",
     "traceback": [
      "\u001b[0;31m---------------------------------------------------------------------------\u001b[0m",
      "\u001b[0;31mFileNotFoundError\u001b[0m                         Traceback (most recent call last)",
      "Input \u001b[0;32mIn [1]\u001b[0m, in \u001b[0;36m<cell line: 8>\u001b[0;34m()\u001b[0m\n\u001b[1;32m      5\u001b[0m \u001b[38;5;28;01mfrom\u001b[39;00m \u001b[38;5;21;01msympy\u001b[39;00m\u001b[38;5;21;01m.\u001b[39;00m\u001b[38;5;21;01msolvers\u001b[39;00m \u001b[38;5;28;01mimport\u001b[39;00m solve\n\u001b[1;32m      6\u001b[0m \u001b[38;5;28;01mfrom\u001b[39;00m \u001b[38;5;21;01msympy\u001b[39;00m \u001b[38;5;28;01mimport\u001b[39;00m symbols\n\u001b[0;32m----> 8\u001b[0m infile1 \u001b[38;5;241m=\u001b[39m \u001b[38;5;28;43mopen\u001b[39;49m\u001b[43m(\u001b[49m\u001b[38;5;124;43m\"\u001b[39;49m\u001b[38;5;124;43m/home_b/gargi/project_1/attach_sugar_mucin/adj2.pdb\u001b[39;49m\u001b[38;5;124;43m\"\u001b[39;49m\u001b[43m,\u001b[49m\u001b[43m \u001b[49m\u001b[38;5;124;43m\"\u001b[39;49m\u001b[38;5;124;43mr\u001b[39;49m\u001b[38;5;124;43m\"\u001b[39;49m\u001b[43m)\u001b[49m\n\u001b[1;32m      9\u001b[0m infile2 \u001b[38;5;241m=\u001b[39m \u001b[38;5;28mopen\u001b[39m(\u001b[38;5;124m\"\u001b[39m\u001b[38;5;124m/home_b/gargi/project_1/attach_sugar_mucin/attach_sug.txt\u001b[39m\u001b[38;5;124m\"\u001b[39m, \u001b[38;5;124m\"\u001b[39m\u001b[38;5;124mr\u001b[39m\u001b[38;5;124m\"\u001b[39m)\n\u001b[1;32m     10\u001b[0m outfile1 \u001b[38;5;241m=\u001b[39m \u001b[38;5;28mopen\u001b[39m(\u001b[38;5;124m\"\u001b[39m\u001b[38;5;124m/home_b/gargi/project_1/attach_sugar_mucin/sug_coord123.txt\u001b[39m\u001b[38;5;124m\"\u001b[39m, \u001b[38;5;124m\"\u001b[39m\u001b[38;5;124mw\u001b[39m\u001b[38;5;124m\"\u001b[39m)\n",
      "\u001b[0;31mFileNotFoundError\u001b[0m: [Errno 2] No such file or directory: '/home_b/gargi/project_1/attach_sugar_mucin/adj2.pdb'"
     ]
    }
   ],
   "source": [
    "import sys\n",
    "import math\n",
    "from math import sqrt\n",
    "from sympy.solvers import nonlinsolve\n",
    "from sympy.solvers import solve\n",
    "from sympy import symbols\n",
    "\n",
    "infile1 = open(\"/home_b/gargi/project_1/attach_sugar_mucin/adj2.pdb\", \"r\")\n",
    "infile2 = open(\"/home_b/gargi/project_1/attach_sugar_mucin/attach_sug.txt\", \"r\")\n",
    "outfile1 = open(\"/home_b/gargi/project_1/attach_sugar_mucin/sug_coord123.txt\", \"w\")\n",
    "outfile2 = open(\"/home_b/gargi/project_1/attach_sugar_mucin/sug_gro123.txt\", \"w\")\n",
    "outfile3 = open(\"/home_b/gargi/project_1/attach_sugar_mucin/sug_def123.txt\", \"w\")\n",
    "\n",
    "res_num = []\n",
    "x_cord_prot = []\n",
    "y_cord_prot = []\n",
    "z_cord_prot = []\n",
    "count_line = 0\n",
    "\n",
    "for lines in infile1:\n",
    "    a, b, c, d, e, f, g, h, i = lines.split()\n",
    "    res_num.append(int(b))\n",
    "    x_cord_prot.append(float(g))\n",
    "    y_cord_prot.append(float(h))\n",
    "    z_cord_prot.append(float(i))\n",
    "    count_line = count_line + 1\n",
    "    \n",
    "res_prot_s = []\n",
    "count_prot_s = 0\n",
    "\n",
    "for lines2 in infile2:\n",
    "    res_prot_s.append(int(lines2))\n",
    "    count_prot_s = count_prot_s + 1\n",
    "    \n",
    "#print(count_line, count_prot_s)\n",
    "x,y,z = symbols('x, y, z', real=True)\n",
    "\n",
    "for i in range(count_prot_s):\n",
    "    for j in range(count_line):\n",
    "        if res_prot_s[i] == res_num[j] and res_prot_s[i] <= 199 and res_prot_s[i] >= 2:\n",
    "            x2 = x_cord_prot[j]\n",
    "            y2 = y_cord_prot[j]\n",
    "            z2 = z_cord_prot[j]\n",
    "            x3 = x_cord_prot[j+1]\n",
    "            y3 = y_cord_prot[j+1]\n",
    "            z3 = z_cord_prot[j+1]\n",
    "            x33 = x_cord_prot[j-1]\n",
    "            y33 = y_cord_prot[j-1]\n",
    "            z33 = z_cord_prot[j-1]\n",
    "            vec1 = math.sqrt(((x2 - x3)*(x2 - x3)) + ((y2 - y3)*(y2 - y3)) + ((z2 - z3)*(z2 - z3)))\n",
    "            vec2 = math.sqrt(((x2 - x33)*(x2 - x33)) + ((y2 - y33)*(y2 - y33)) + ((z2 - z33)*(z2 - z33)))\n",
    "            mult1 = vec1*math.cos((62.8155*math.pi)/180)*0.37783\n",
    "            mult2 = vec2*math.cos((88.0857*math.pi)/180)*0.37783\n",
    "            eq1 = ((x - x2)**2 + (y - y2)**2 + (z - z2)**2) - 0.143\n",
    "            eq2 = ((x - x2)*(x2 - x3)) + ((y - y2)*(y2 - y3)) + ((z - z2)*(z2 - z3)) - mult1\n",
    "            eq3 = ((x - x2)*(x2 - x33)) + ((y - y2)*(y2 - y33)) + ((z - z2)*(z2 - z33)) - mult2\n",
    "            sol1, sol2 = nonlinsolve([eq1, eq2, eq3], [x,y,z])\n",
    "            s1 = float(sol1[0])\n",
    "            s2 = float(sol1[1])\n",
    "            s3 = float(sol1[2])\n",
    "            k = int(i) + 40392\n",
    "            ss = 'HETATM {:>5s}  C1 0VA {:>5s} {:>10.2f} {:>7.2f} {:>7.2f}{}'.format(str(k), str(k), s1, s2, s3, \"\\n\")\n",
    "            ss2 = '{:>5d}0VA     C1{:>5d} {:>7.3f} {:>7.3f} {:>7.3f}{}'.format(k, k, s1, s2, s3, \"\\n\")\n",
    "            ss3 = ' {:>5s}       NB_2  {:>5s}    0VA     C1  {:>5s}{}'.format(str(k), str(k), str(k), \"\\n\")\n",
    "            print(s1, s2, s3)\n",
    "            outfile1.writelines(ss)\n",
    "            outfile2.writelines(ss2)\n",
    "            outfile3.writelines(ss3)\n",
    "            \n",
    "outfile1.close()\n",
    "infile1.close()\n",
    "infile2.close()\n",
    "outfile2.close()\n",
    "outfile3.close()\n",
    "    "
   ]
  },
  {
   "cell_type": "code",
   "execution_count": null,
   "id": "34028a2f-d776-420d-84e8-14906eee39b8",
   "metadata": {},
   "outputs": [],
   "source": []
  },
  {
   "cell_type": "code",
   "execution_count": null,
   "id": "582bebc0-c63b-485f-a7bc-bfc88c228d85",
   "metadata": {},
   "outputs": [],
   "source": []
  }
 ],
 "metadata": {
  "kernelspec": {
   "display_name": "Python 3 (ipykernel)",
   "language": "python",
   "name": "python3"
  },
  "language_info": {
   "codemirror_mode": {
    "name": "ipython",
    "version": 3
   },
   "file_extension": ".py",
   "mimetype": "text/x-python",
   "name": "python",
   "nbconvert_exporter": "python",
   "pygments_lexer": "ipython3",
   "version": "3.9.12"
  }
 },
 "nbformat": 4,
 "nbformat_minor": 5
}
