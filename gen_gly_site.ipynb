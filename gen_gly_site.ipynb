{
 "cells": [
  {
   "cell_type": "code",
   "execution_count": 15,
   "id": "81d79050-db41-466f-9e9f-e9d63b9e0a43",
   "metadata": {},
   "outputs": [],
   "source": [
    "import sys\n",
    "import math\n",
    "from math import sqrt\n",
    "from sympy.solvers import nonlinsolve\n",
    "from sympy.solvers import solve\n",
    "from sympy import symbols\n",
    "import random\n",
    "\n",
    "infile1 = open(\"/home_b/gargi/project_1/attach_sugar_mucin/muc2_smog20_head.gro\", \"r\")\n",
    "outfile3 = open(\"/home_b/gargi/project_1/attach_sugar_mucin/glycan_pr.txt\", \"w\")\n",
    "\n",
    "res_num = []\n",
    "count_line = 0\n",
    "res_name = []\n",
    "\n",
    "for lines in infile1:\n",
    "    a, b, c, d, e, f = lines.split()\n",
    "    a1 = a[0:-3]\n",
    "    a2 = a[-3:]\n",
    "    res_num.append(a1)\n",
    "    res_name.append(a2)\n",
    "    count_line = count_line + 1\n",
    "\n",
    "#for lines in infile1:\n",
    "#    a, b, c, d, e, f, g, h, i = lines.split()\n",
    "#    res_num.append(int(b))\n",
    "#    res_name.append(d)\n",
    "#    count_line = count_line + 1\n",
    "    \n",
    "count_gly_site = 0\n",
    "gly_site = []\n",
    "\n",
    "for i in range(count_line):\n",
    "    if res_name[i] == 'SER' or res_name[i] == 'THR':\n",
    "        #print(res_num[i])\n",
    "        gly_site.append(res_num[i])\n",
    "        count_gly_site = count_gly_site + 1\n",
    "#print(count_gly_site)\n",
    "\n",
    "perc = count_gly_site*0.5\n",
    "perc_int = int(perc)\n",
    "#print(perc)\n",
    "\n",
    "li2 = random.sample(gly_site,perc_int)\n",
    "#print(li2)\n",
    " \n",
    "for i in range(len(li2)):\n",
    "    outfile3.writelines(li2[i])      \n",
    "    "
   ]
  },
  {
   "cell_type": "code",
   "execution_count": null,
   "id": "6b64c30e-fa76-47ae-9265-1b2dba9c81a8",
   "metadata": {},
   "outputs": [],
   "source": []
  }
 ],
 "metadata": {
  "kernelspec": {
   "display_name": "Python 3 (ipykernel)",
   "language": "python",
   "name": "python3"
  },
  "language_info": {
   "codemirror_mode": {
    "name": "ipython",
    "version": 3
   },
   "file_extension": ".py",
   "mimetype": "text/x-python",
   "name": "python",
   "nbconvert_exporter": "python",
   "pygments_lexer": "ipython3",
   "version": "3.9.12"
  }
 },
 "nbformat": 4,
 "nbformat_minor": 5
}
