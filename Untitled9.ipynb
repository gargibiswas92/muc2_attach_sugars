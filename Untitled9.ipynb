{
 "cells": [
  {
   "cell_type": "code",
   "execution_count": 5,
   "id": "6db3ed1f-e7a7-411b-bcf7-c47f4645becc",
   "metadata": {},
   "outputs": [
    {
     "name": "stdout",
     "output_type": "stream",
     "text": [
      "no i in here\n"
     ]
    }
   ],
   "source": [
    "str = 'banaba'\n",
    "if ('i' in str)== False:\n",
    "    print(\"no i in here\")\n",
    "    \n",
    "else:\n",
    "    print(\"i is there\")"
   ]
  },
  {
   "cell_type": "code",
   "execution_count": null,
   "id": "b7af4c72-78ee-40bb-a001-8240f48e6676",
   "metadata": {},
   "outputs": [],
   "source": []
  }
 ],
 "metadata": {
  "kernelspec": {
   "display_name": "Python 3 (ipykernel)",
   "language": "python",
   "name": "python3"
  },
  "language_info": {
   "codemirror_mode": {
    "name": "ipython",
    "version": 3
   },
   "file_extension": ".py",
   "mimetype": "text/x-python",
   "name": "python",
   "nbconvert_exporter": "python",
   "pygments_lexer": "ipython3",
   "version": "3.9.12"
  }
 },
 "nbformat": 4,
 "nbformat_minor": 5
}
