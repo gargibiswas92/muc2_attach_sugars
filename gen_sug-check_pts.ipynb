{
 "cells": [
  {
   "cell_type": "code",
   "execution_count": null,
   "id": "f1467cd7-a6fa-4bdf-900f-a6d515e2b5f1",
   "metadata": {},
   "outputs": [
    {
     "name": "stdout",
     "output_type": "stream",
     "text": [
      "{(0.423079515203755, 0.189717148920593, -0.319301072192334), (0.470210621861267, -0.247320525858623, -0.304428497328174)}\n",
      "{(1.63666910117766, 0.54193699299312, 1.269863440117), (1.75993331747292, 0.947883456160816, 1.36527446275632)}\n",
      "{(1.69087845877597, 0.741214434145099, 2.43041038031403), (1.86078891416266, 1.05345874703995, 2.16885274136281)}\n",
      "{(2.28244769103668, 0.846324861304649, 2.87306739955796), (2.49788920643471, 0.862994740242905, 3.25140697194063)}\n",
      "{(2.21614023358182, 1.61920921393723, 2.64847430378953), (2.51207567708216, 1.84024584983194, 2.41738490098832)}\n",
      "{(2.24489490499953, 2.36184219824068, 2.30799020811193), (2.24914041557869, 2.52521900681943, 2.71499800566671)}\n",
      "{(1.60548706505188, 2.10149101589576, 2.89878114883895), (1.67340978819555, 2.53473219804049, 2.86864927372342)}\n",
      "{(1.23428666183877, 1.98730360272713, 2.4473371195331), (1.5160870883518, 2.05515785691755, 2.11245782771817)}\n"
     ]
    }
   ],
   "source": [
    "import sys\n",
    "import math\n",
    "from math import sqrt\n",
    "from sympy.solvers import nonlinsolve\n",
    "from sympy.solvers import solve\n",
    "from sympy import symbols\n",
    "\n",
    "infile1 = open(\"/home_b/gargi/project_1/attach_sugar_mucin/dh_pair.gro\", \"r\")\n",
    "infile2 = open(\"/home_b/gargi/project_1/attach_sugar_mucin/attach_sug2.txt\", \"r\")\n",
    "outfile1 = open(\"/home_b/gargi/project_1/attach_sugar_mucin/sug_coord_pts2.txt\", \"w\")\n",
    "\n",
    "res_num = []\n",
    "x_cord_prot = []\n",
    "y_cord_prot = []\n",
    "z_cord_prot = []\n",
    "count_line = 0\n",
    "\n",
    "for lines in infile1:\n",
    "    a, b, c, d, e, f = lines.split()\n",
    "    a1 = a[0:-3]\n",
    "    res_num.append(int(a1))\n",
    "    x_cord_prot.append(float(d))\n",
    "    y_cord_prot.append(float(e))\n",
    "    z_cord_prot.append(float(f))\n",
    "    count_line = count_line + 1\n",
    "    \n",
    "res_prot_s = []\n",
    "count_prot_s = 0\n",
    "\n",
    "for lines3 in infile2:\n",
    "    res_prot_s.append(int(lines3))\n",
    "    count_prot_s = count_prot_s + 1\n",
    "    \n",
    "x,y,z = symbols('x, y, z', real=True)\n",
    "\n",
    "for i in range(count_prot_s):\n",
    "    for j in range(count_line):\n",
    "        if res_prot_s[i] == res_num[j] and res_prot_s[i] <= 479 and res_prot_s[i] >= 2:\n",
    "            x2 = x_cord_prot[j]\n",
    "            y2 = y_cord_prot[j]\n",
    "            z2 = z_cord_prot[j]\n",
    "            x3 = x_cord_prot[j+1]\n",
    "            y3 = y_cord_prot[j+1]\n",
    "            z3 = z_cord_prot[j+1]\n",
    "            x33 = x_cord_prot[j-1]\n",
    "            y33 = y_cord_prot[j-1]\n",
    "            z33 = z_cord_prot[j-1]\n",
    "            vec1 = math.sqrt(((x2 - x3)*(x2 - x3)) + ((y2 - y3)*(y2 - y3)) + ((z2 - z3)*(z2 - z3)))\n",
    "            vec2 = math.sqrt(((x2 - x33)*(x2 - x33)) + ((y2 - y33)*(y2 - y33)) + ((z2 - z33)*(z2 - z33)))\n",
    "            mult1 = vec1*math.cos((62.8155*math.pi)/180)*0.37783\n",
    "            mult2 = vec2*math.cos((88.0857*math.pi)/180)*0.37783\n",
    "            #print(mult1, mult2)\n",
    "            eq1 = ((x - x2)**2 + (y - y2)**2 + (z - z2)**2) - 0.143\n",
    "            eq2 = ((x - x2)*(x2 - x3)) + ((y - y2)*(y2 - y3)) + ((z - z2)*(z2 - z3)) - mult1\n",
    "            eq3 = ((x - x2)*(x2 - x33)) + ((y - y2)*(y2 - y33)) + ((z - z2)*(z2 - z33)) - mult2\n",
    "            sol = nonlinsolve([eq1, eq2, eq3], [x,y,z])\n",
    "            print(sol)\n",
    "            #ss = '{:>8s}  {:>8s}  {:>8s}{}'.format(str(sol1[0]), str(sol1[1]), str(sol1[2]), \"\\n\")\n",
    "            #outfile1.writelines(ss)\n",
    "            \n",
    "outfile1.close()\n",
    "infile1.close()\n",
    "infile2.close()\n",
    "    "
   ]
  },
  {
   "cell_type": "code",
   "execution_count": null,
   "id": "998fd940-7690-4978-8cef-8b4fb85c3794",
   "metadata": {},
   "outputs": [],
   "source": []
  }
 ],
 "metadata": {
  "kernelspec": {
   "display_name": "Python 3 (ipykernel)",
   "language": "python",
   "name": "python3"
  },
  "language_info": {
   "codemirror_mode": {
    "name": "ipython",
    "version": 3
   },
   "file_extension": ".py",
   "mimetype": "text/x-python",
   "name": "python",
   "nbconvert_exporter": "python",
   "pygments_lexer": "ipython3",
   "version": "3.9.12"
  }
 },
 "nbformat": 4,
 "nbformat_minor": 5
}
