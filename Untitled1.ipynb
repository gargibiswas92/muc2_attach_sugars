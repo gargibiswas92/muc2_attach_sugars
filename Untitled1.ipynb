{
 "cells": [
  {
   "cell_type": "code",
   "execution_count": 33,
   "id": "22b81dc2-185c-488a-993f-e23e45f8d853",
   "metadata": {},
   "outputs": [
    {
     "ename": "SyntaxError",
     "evalue": "invalid syntax (1926536919.py, line 11)",
     "output_type": "error",
     "traceback": [
      "\u001b[0;36m  Input \u001b[0;32mIn [33]\u001b[0;36m\u001b[0m\n\u001b[0;31m    x, y, z = symbols('x, y, z', real=True)\u001b[0m\n\u001b[0m    ^\u001b[0m\n\u001b[0;31mSyntaxError\u001b[0m\u001b[0;31m:\u001b[0m invalid syntax\n"
     ]
    }
   ],
   "source": [
    "import sys\n",
    "import math\n",
    "from math import sqrt\n",
    "from sympy.solvers import nonlinsolve\n",
    "from sympy.solvers import solve\n",
    "from sympy import symbols, real_root\n",
    "\n",
    "point1 = [0.010, -0.068, -0.080]\n",
    "point2 = [0.378, -0.026, -0.012]\n",
    "point3 = [0.634, 0.011, 0.264\n",
    "x, y, z = symbols('x, y, z', real=True)\n",
    "\n",
    "eq1 = ((x - **2 + (y - 2)**2 + (z - 3)**2) - (0.37)**2\n",
    "eq2 = (((x - 1)*(2 - 1) + (y - 2)*(3 - 2) + (z - 3)*(4 - 3))**2) - (((2 - 1)**2 + (3 - 2)**2 + (4 - 3)**2)*(0.102))\n",
    "eq3 = (((x - 1)*(4 - 1) + (y - 2)*(5 - 2) + (z - 3)*(6 - 3))**2) - (((4 - 1)**2 + (5 - 2)**2 + (6 - 3)**2)*(0.004))\n",
    "\n",
    "sol = nonlinsolve([eq1, eq2, eq3], [x, y, z])"
   ]
  },
  {
   "cell_type": "code",
   "execution_count": null,
   "id": "737f3681-915d-4408-815c-1e3d7bfa95f9",
   "metadata": {},
   "outputs": [],
   "source": []
  },
  {
   "cell_type": "code",
   "execution_count": null,
   "id": "6d409fb2-a0f9-4751-8db7-8ab9ae35924f",
   "metadata": {},
   "outputs": [],
   "source": []
  },
  {
   "cell_type": "code",
   "execution_count": null,
   "id": "f5c767f0-e0a6-4577-8461-79f2a4279a12",
   "metadata": {},
   "outputs": [],
   "source": []
  },
  {
   "cell_type": "code",
   "execution_count": null,
   "id": "02d36b1f-3a77-459e-95b9-5f124797624d",
   "metadata": {},
   "outputs": [],
   "source": []
  },
  {
   "cell_type": "code",
   "execution_count": null,
   "id": "c834d1cd-eb89-418b-8830-de1a8f60a04a",
   "metadata": {},
   "outputs": [],
   "source": []
  },
  {
   "cell_type": "code",
   "execution_count": null,
   "id": "fd0a243f-f92b-4add-9d2b-f19b4b9470ff",
   "metadata": {},
   "outputs": [],
   "source": []
  }
 ],
 "metadata": {
  "kernelspec": {
   "display_name": "Python 3 (ipykernel)",
   "language": "python",
   "name": "python3"
  },
  "language_info": {
   "codemirror_mode": {
    "name": "ipython",
    "version": 3
   },
   "file_extension": ".py",
   "mimetype": "text/x-python",
   "name": "python",
   "nbconvert_exporter": "python",
   "pygments_lexer": "ipython3",
   "version": "3.9.12"
  }
 },
 "nbformat": 4,
 "nbformat_minor": 5
}
